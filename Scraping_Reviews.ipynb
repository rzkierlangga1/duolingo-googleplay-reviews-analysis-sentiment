{
  "cells": [
    {
      "cell_type": "markdown",
      "metadata": {
        "id": "6pmpH9obb0NE"
      },
      "source": [
        "# **Data Scraping Aplikasi Duolingo di Play Store**\n",
        "\n"
      ]
    },
    {
      "cell_type": "markdown",
      "metadata": {
        "id": "jZSDSMyeAFr0"
      },
      "source": [
        "## **Import Library Scraping**"
      ]
    },
    {
      "cell_type": "code",
      "execution_count": 1,
      "metadata": {
        "colab": {
          "base_uri": "https://localhost:8080/"
        },
        "id": "pGFzMazlFcE6",
        "outputId": "da0b8714-f0db-4ff7-adfd-1cd2d81891c1"
      },
      "outputs": [
        {
          "output_type": "stream",
          "name": "stdout",
          "text": [
            "Collecting google-play-scraper\n",
            "  Downloading google_play_scraper-1.2.7-py3-none-any.whl.metadata (50 kB)\n",
            "\u001b[?25l     \u001b[90m━━━━━━━━━━━━━━━━━━━━━━━━━━━━━━━━━━━━━━━━\u001b[0m \u001b[32m0.0/50.2 kB\u001b[0m \u001b[31m?\u001b[0m eta \u001b[36m-:--:--\u001b[0m\r\u001b[2K     \u001b[90m━━━━━━━━━━━━━━━━━━━━━━━━━━━━━━━━━━━━━━━━\u001b[0m \u001b[32m50.2/50.2 kB\u001b[0m \u001b[31m2.1 MB/s\u001b[0m eta \u001b[36m0:00:00\u001b[0m\n",
            "\u001b[?25hDownloading google_play_scraper-1.2.7-py3-none-any.whl (28 kB)\n",
            "Installing collected packages: google-play-scraper\n",
            "Successfully installed google-play-scraper-1.2.7\n"
          ]
        }
      ],
      "source": [
        "!pip install google-play-scraper"
      ]
    },
    {
      "cell_type": "code",
      "source": [
        "# Import library yang dibutuhkan\n",
        "from google_play_scraper import reviews, Sort\n",
        "import pandas as pd"
      ],
      "metadata": {
        "id": "a6o6FNAyCbsC"
      },
      "execution_count": 2,
      "outputs": []
    },
    {
      "cell_type": "markdown",
      "metadata": {
        "id": "FBMV4WK8cVA3"
      },
      "source": [
        "## **Scraping Data Review Aplikasi Duolingo**"
      ]
    },
    {
      "cell_type": "code",
      "execution_count": 3,
      "metadata": {
        "id": "GTy8liYBQD3p"
      },
      "outputs": [],
      "source": [
        "# Fungsi untuk melakukan scraping review dari Google Play Store\n",
        "def scraping(app_id='com.duolingo', filename='duolingo_eng_reviews.csv', lang='en', country='id'):\n",
        "    # Mengambil review aplikasi menggunakan google_play_scraper\n",
        "    scrapreviews, _ = reviews(\n",
        "        app_id,               # ID aplikasi di Play Store\n",
        "        lang=lang,            # Bahasa review, 'eng' untuk Bahasa Inggris\n",
        "        country=country,      # Wilayah Play Store, 'id' untuk Indonesia\n",
        "        sort=Sort.MOST_RELEVANT,  # Urutan review yang diambil\n",
        "        count=20000           # Jumlah maksimal review yang ingin diambil\n",
        "    )\n",
        "\n",
        "    # Membuat DataFrame dari hasil scraping\n",
        "    df = pd.DataFrame(scrapreviews)\n",
        "\n",
        "    # Memilih kolom-kolom penting: isi review ('content'), skor bintang ('score'), dan tanggal review ('at')\n",
        "    df = df[['content', 'score','at']]\n",
        "\n",
        "    # Menyimpan hasil akhir ke dalam file CSV tanpa menuliskan index\n",
        "    df.to_csv(filename, index=False)\n",
        "\n",
        "# Memanggil fungsi scraping untuk aplikasi SeaBank\n",
        "scraping()"
      ]
    }
  ],
  "metadata": {
    "colab": {
      "provenance": []
    },
    "kernelspec": {
      "display_name": "Python 3",
      "name": "python3"
    },
    "language_info": {
      "name": "python"
    }
  },
  "nbformat": 4,
  "nbformat_minor": 0
}